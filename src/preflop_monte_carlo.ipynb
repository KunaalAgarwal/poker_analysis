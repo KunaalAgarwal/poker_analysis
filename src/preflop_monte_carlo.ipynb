{
 "cells": [
  {
   "cell_type": "code",
   "execution_count": 6,
   "metadata": {},
   "outputs": [],
   "source": [
    "import range_construction\n",
    "import flop_classifier\n",
    "import pandas as pd\n",
    "import numpy as np\n",
    "import itertools\n",
    "import random\n",
    "\n",
    "from treys import Evaluator, Card, Deck\n",
    "from joblib import Parallel, delayed\n",
    "\n",
    "import numpy as np\n",
    "import matplotlib.pyplot as plt\n",
    "from sklearn.cluster import KMeans"
   ]
  },
  {
   "cell_type": "code",
   "execution_count": 7,
   "metadata": {},
   "outputs": [
    {
     "data": {
      "text/plain": [
       "'\\nUse monte-carlo simulation to determine an approximate ordering of all hands via preflop equity. \\nLaw of large numbers: as the number of random samples increases, the average of the samples will approach the true average. Caveat is the growth is asymptotic. \\nMeaning that nearing some threshold of hands, the average of the random samples is arguably good enough as an approximation of the true average. There exists a point of diminishing returns,\\nconsider computational cost and accuracy. \\n\\nAlgorithm will be: \\nFor each pair of possible starting hands, use Monte-carlo simulations to randomly determine n number of boards. At each street on the board compute the hand that is ahead via treys.evaluator.\\nThis computation will be hand_rank(hand1) - hand_rank(hand2). Add this output to some dataframe for later storage. On the flop classify the flop (determination of these classes below). \\nAt the end of the simulation, calculate the equity(hand1, hand2) via hand1_wins + hand1_ties / total_boards.  Equity(hand2, hand1) = 1 - equity(hand1, hand2).   \\n'"
      ]
     },
     "execution_count": 7,
     "metadata": {},
     "output_type": "execute_result"
    }
   ],
   "source": [
    "\"\"\"\n",
    "Use monte-carlo simulation to determine an approximate ordering of all hands via preflop equity. \n",
    "Law of large numbers: as the number of random samples increases, the average of the samples will approach the true average. Caveat is the growth is asymptotic. \n",
    "Meaning that nearing some threshold of hands, the average of the random samples is arguably good enough as an approximation of the true average. There exists a point of diminishing returns,\n",
    "consider computational cost and accuracy. \n",
    "\n",
    "Algorithm will be: \n",
    "For each pair of possible starting hands, use Monte-carlo simulations to randomly determine n number of boards. At each street on the board compute the hand that is ahead via treys.evaluator.\n",
    "This computation will be hand_rank(hand1) - hand_rank(hand2). Add this output to some dataframe for later storage. On the flop classify the flop (determination of these classes below). \n",
    "At the end of the simulation, calculate the equity(hand1, hand2) via hand1_wins + hand1_ties / total_boards.  Equity(hand2, hand1) = 1 - equity(hand1, hand2).   \n",
    "\"\"\""
   ]
  },
  {
   "cell_type": "code",
   "execution_count": 8,
   "metadata": {},
   "outputs": [],
   "source": [
    "def assign_placeholder_suits(hand): \n",
    "    suits = ['s', 'h', 'd', 'c']\n",
    "\n",
    "    suit1 = suits[random.randint(0,3)]\n",
    "\n",
    "    if 's' in hand: return [f\"{hand[0]}{suit1}\", f\"{hand[1]}{suit1}\"]\n",
    "\n",
    "    else:\n",
    "        suits.remove(suit1)        \n",
    "        suit2 = suits[random.randint(0,2)]\n",
    "        return [f\"{hand[0]}{suit1}\", f\"{hand[1]}{suit2}\"]"
   ]
  },
  {
   "cell_type": "code",
   "execution_count": 9,
   "metadata": {},
   "outputs": [],
   "source": [
    "def ensure_unique_suits(hand1, hand2):\n",
    "    suits = ['s', 'h', 'd', 'c']\n",
    "    used_cards = set(hand1) \n",
    "    \n",
    "    for i, card2 in enumerate(hand2):\n",
    "        if card2 in used_cards:\n",
    "            rank = card2[0]  \n",
    "            # Find an available suit for this rank\n",
    "            available_suits = [suit for suit in suits if f\"{rank}{suit}\" not in used_cards]\n",
    "            if available_suits:\n",
    "                new_card = f\"{rank}{available_suits[0]}\"\n",
    "                hand2[i] = new_card\n",
    "                used_cards.add(new_card)\n",
    "        else:\n",
    "            used_cards.add(card2)  # Add non-duplicate card to the used set\n",
    "    \n",
    "    return hand1, hand2"
   ]
  },
  {
   "cell_type": "code",
   "execution_count": 10,
   "metadata": {},
   "outputs": [],
   "source": [
    "deck = [\n",
    "    \"2c\", \"2d\", \"2h\", \"2s\", \"3c\", \"3d\", \"3h\", \"3s\", \"4c\", \"4d\", \"4h\", \"4s\", \n",
    "    \"5c\", \"5d\", \"5h\", \"5s\", \"6c\", \"6d\", \"6h\", \"6s\", \"7c\", \"7d\", \"7h\", \"7s\", \n",
    "    \"8c\", \"8d\", \"8h\", \"8s\", \"9c\", \"9d\", \"9h\", \"9s\", \"Tc\", \"Td\", \"Th\", \"Ts\", \n",
    "    \"Jc\", \"Jd\", \"Jh\", \"Js\", \"Qc\", \"Qd\", \"Qh\", \"Qs\", \"Kc\", \"Kd\", \"Kh\", \"Ks\", \n",
    "    \"Ac\", \"Ad\", \"Ah\", \"As\"\n",
    "]"
   ]
  },
  {
   "cell_type": "code",
   "execution_count": 11,
   "metadata": {},
   "outputs": [],
   "source": [
    "def simulate_matchup(combo, trials=10000):\n",
    "    \"\"\"\n",
    "    combo: A tuple of two hands, e.g. ('AKs', 'QQ').\n",
    "    trials: How many random flop/turn/river deals to simulate.\n",
    "    \n",
    "    Returns: A dict with:\n",
    "      {\n",
    "        'hand1': str, 'hand2': str,\n",
    "        'equity_hand1': float, 'equity_hand2': float,\n",
    "        'res': list of dicts for each Monte Carlo iteration (optional)\n",
    "      }\n",
    "    \"\"\"\n",
    "    evaluator = Evaluator()\n",
    "    \n",
    "    hand1 = assign_placeholder_suits(combo[0])\n",
    "    hand2 = assign_placeholder_suits(combo[1])\n",
    "    hand1, hand2 = ensure_unique_suits(hand1, hand2)\n",
    "    \n",
    "    hand1_cards = [Card.new(c) for c in hand1]\n",
    "    hand2_cards = [Card.new(c) for c in hand2]\n",
    "    \n",
    "    # Remove these 4 cards from the deck to create the 'remaining deck'\n",
    "    used_cards = set(hand1 + hand2)\n",
    "    remaining_deck = [card for card in deck if card not in used_cards]\n",
    "    \n",
    "    hand1_wins = 0\n",
    "    hand2_wins = 0\n",
    "    ties = 0\n",
    "    \n",
    "    # Optionally store each trial's data\n",
    "    res_local = []\n",
    "    \n",
    "    for _ in range(trials):\n",
    "        # Randomly select 5 cards for board\n",
    "        board_sample = random.sample(remaining_deck, 5)\n",
    "        board_cards = [Card.new(c) for c in board_sample]\n",
    "        \n",
    "        # Evaluate\n",
    "        hand1_rank = evaluator.evaluate(board_cards, hand1_cards)\n",
    "        hand2_rank = evaluator.evaluate(board_cards, hand2_cards)\n",
    "        \n",
    "        if hand1_rank < hand2_rank:\n",
    "            hand1_wins += 1\n",
    "        elif hand1_rank > hand2_rank:\n",
    "            hand2_wins += 1\n",
    "        else:\n",
    "            ties += 1\n",
    "        \n",
    "        # (Optional) classify flop for record-keeping\n",
    "        flop = board_sample[:3]\n",
    "        flop_qualities = [\n",
    "            flop_classifier.analyze_board_connectivity(flop),\n",
    "            flop_classifier.analyze_board_suits(flop),\n",
    "            flop_classifier.analyze_board_pairing(flop)\n",
    "        ]\n",
    "        if any(card.startswith('A') for card in flop):\n",
    "            flop_qualities.append('Ace high')\n",
    "        elif any(card.startswith('K') for card in flop):\n",
    "            flop_qualities.append('King high')\n",
    "        \n",
    "        dynamic_score = flop_classifier.determine_dynamic_score(flop)\n",
    "        \n",
    "        # res_local.append({\n",
    "        #     'hand1': hand1,\n",
    "        #     'hand2': hand2,\n",
    "        #     'flop': flop,\n",
    "        #     'turn': board_sample[3],\n",
    "        #     'river': board_sample[4],\n",
    "        #     'flop_quality': flop_qualities,\n",
    "        #     'flop_dynamic_score': dynamic_score\n",
    "        # })\n",
    "    \n",
    "    total_simulations = hand1_wins + hand2_wins + ties\n",
    "    equity_hand1 = (hand1_wins + ties / 2.0) / total_simulations\n",
    "    equity_hand2 = 1.0 - equity_hand1\n",
    "    \n",
    "    return {\n",
    "        'hand1_str': combo[0],\n",
    "        'hand2_str': combo[1],\n",
    "        'hand1': hand1,\n",
    "        'hand2': hand2,\n",
    "        'equity_hand1': equity_hand1,\n",
    "        'equity_hand2': equity_hand2,\n",
    "        # 'res': res_local  # you can omit if you don't need per-trial data\n",
    "    }"
   ]
  },
  {
   "cell_type": "code",
   "execution_count": 12,
   "metadata": {},
   "outputs": [
    {
     "ename": "KeyboardInterrupt",
     "evalue": "",
     "output_type": "error",
     "traceback": [
      "\u001b[1;31m---------------------------------------------------------------------------\u001b[0m",
      "\u001b[1;31mKeyboardInterrupt\u001b[0m                         Traceback (most recent call last)",
      "Cell \u001b[1;32mIn[12], line 11\u001b[0m\n\u001b[0;32m      8\u001b[0m \u001b[38;5;66;03m# We'll do 500 or 1000 iterations per matchup for demonstration\u001b[39;00m\n\u001b[0;32m      9\u001b[0m trials_per_matchup \u001b[38;5;241m=\u001b[39m \u001b[38;5;241m10000\u001b[39m\n\u001b[1;32m---> 11\u001b[0m results \u001b[38;5;241m=\u001b[39m \u001b[43mParallel\u001b[49m\u001b[43m(\u001b[49m\u001b[43mn_jobs\u001b[49m\u001b[38;5;241;43m=\u001b[39;49m\u001b[43mn_jobs\u001b[49m\u001b[43m,\u001b[49m\u001b[43m \u001b[49m\u001b[43mbackend\u001b[49m\u001b[38;5;241;43m=\u001b[39;49m\u001b[38;5;124;43m\"\u001b[39;49m\u001b[38;5;124;43mloky\u001b[39;49m\u001b[38;5;124;43m\"\u001b[39;49m\u001b[43m)\u001b[49m\u001b[43m(\u001b[49m\n\u001b[0;32m     12\u001b[0m \u001b[43m    \u001b[49m\u001b[43mdelayed\u001b[49m\u001b[43m(\u001b[49m\u001b[43msimulate_matchup\u001b[49m\u001b[43m)\u001b[49m\u001b[43m(\u001b[49m\u001b[43mcombo\u001b[49m\u001b[43m,\u001b[49m\u001b[43m \u001b[49m\u001b[43mtrials\u001b[49m\u001b[38;5;241;43m=\u001b[39;49m\u001b[43mtrials_per_matchup\u001b[49m\u001b[43m)\u001b[49m\u001b[43m \u001b[49m\n\u001b[0;32m     13\u001b[0m \u001b[43m    \u001b[49m\u001b[38;5;28;43;01mfor\u001b[39;49;00m\u001b[43m \u001b[49m\u001b[43mcombo\u001b[49m\u001b[43m \u001b[49m\u001b[38;5;129;43;01min\u001b[39;49;00m\u001b[43m \u001b[49m\u001b[43mall_combos\u001b[49m\n\u001b[0;32m     14\u001b[0m \u001b[43m)\u001b[49m\n",
      "File \u001b[1;32mc:\\Users\\kuna8\\personal_projects\\poker_cash_ranges\\pcr_env\\lib\\site-packages\\joblib\\parallel.py:2007\u001b[0m, in \u001b[0;36mParallel.__call__\u001b[1;34m(self, iterable)\u001b[0m\n\u001b[0;32m   2001\u001b[0m \u001b[38;5;66;03m# The first item from the output is blank, but it makes the interpreter\u001b[39;00m\n\u001b[0;32m   2002\u001b[0m \u001b[38;5;66;03m# progress until it enters the Try/Except block of the generator and\u001b[39;00m\n\u001b[0;32m   2003\u001b[0m \u001b[38;5;66;03m# reaches the first `yield` statement. This starts the asynchronous\u001b[39;00m\n\u001b[0;32m   2004\u001b[0m \u001b[38;5;66;03m# dispatch of the tasks to the workers.\u001b[39;00m\n\u001b[0;32m   2005\u001b[0m \u001b[38;5;28mnext\u001b[39m(output)\n\u001b[1;32m-> 2007\u001b[0m \u001b[38;5;28;01mreturn\u001b[39;00m output \u001b[38;5;28;01mif\u001b[39;00m \u001b[38;5;28mself\u001b[39m\u001b[38;5;241m.\u001b[39mreturn_generator \u001b[38;5;28;01melse\u001b[39;00m \u001b[38;5;28;43mlist\u001b[39;49m\u001b[43m(\u001b[49m\u001b[43moutput\u001b[49m\u001b[43m)\u001b[49m\n",
      "File \u001b[1;32mc:\\Users\\kuna8\\personal_projects\\poker_cash_ranges\\pcr_env\\lib\\site-packages\\joblib\\parallel.py:1650\u001b[0m, in \u001b[0;36mParallel._get_outputs\u001b[1;34m(self, iterator, pre_dispatch)\u001b[0m\n\u001b[0;32m   1647\u001b[0m     \u001b[38;5;28;01myield\u001b[39;00m\n\u001b[0;32m   1649\u001b[0m     \u001b[38;5;28;01mwith\u001b[39;00m \u001b[38;5;28mself\u001b[39m\u001b[38;5;241m.\u001b[39m_backend\u001b[38;5;241m.\u001b[39mretrieval_context():\n\u001b[1;32m-> 1650\u001b[0m         \u001b[38;5;28;01myield from\u001b[39;00m \u001b[38;5;28mself\u001b[39m\u001b[38;5;241m.\u001b[39m_retrieve()\n\u001b[0;32m   1652\u001b[0m \u001b[38;5;28;01mexcept\u001b[39;00m \u001b[38;5;167;01mGeneratorExit\u001b[39;00m:\n\u001b[0;32m   1653\u001b[0m     \u001b[38;5;66;03m# The generator has been garbage collected before being fully\u001b[39;00m\n\u001b[0;32m   1654\u001b[0m     \u001b[38;5;66;03m# consumed. This aborts the remaining tasks if possible and warn\u001b[39;00m\n\u001b[0;32m   1655\u001b[0m     \u001b[38;5;66;03m# the user if necessary.\u001b[39;00m\n\u001b[0;32m   1656\u001b[0m     \u001b[38;5;28mself\u001b[39m\u001b[38;5;241m.\u001b[39m_exception \u001b[38;5;241m=\u001b[39m \u001b[38;5;28;01mTrue\u001b[39;00m\n",
      "File \u001b[1;32mc:\\Users\\kuna8\\personal_projects\\poker_cash_ranges\\pcr_env\\lib\\site-packages\\joblib\\parallel.py:1762\u001b[0m, in \u001b[0;36mParallel._retrieve\u001b[1;34m(self)\u001b[0m\n\u001b[0;32m   1757\u001b[0m \u001b[38;5;66;03m# If the next job is not ready for retrieval yet, we just wait for\u001b[39;00m\n\u001b[0;32m   1758\u001b[0m \u001b[38;5;66;03m# async callbacks to progress.\u001b[39;00m\n\u001b[0;32m   1759\u001b[0m \u001b[38;5;28;01mif\u001b[39;00m ((\u001b[38;5;28mlen\u001b[39m(\u001b[38;5;28mself\u001b[39m\u001b[38;5;241m.\u001b[39m_jobs) \u001b[38;5;241m==\u001b[39m \u001b[38;5;241m0\u001b[39m) \u001b[38;5;129;01mor\u001b[39;00m\n\u001b[0;32m   1760\u001b[0m     (\u001b[38;5;28mself\u001b[39m\u001b[38;5;241m.\u001b[39m_jobs[\u001b[38;5;241m0\u001b[39m]\u001b[38;5;241m.\u001b[39mget_status(\n\u001b[0;32m   1761\u001b[0m         timeout\u001b[38;5;241m=\u001b[39m\u001b[38;5;28mself\u001b[39m\u001b[38;5;241m.\u001b[39mtimeout) \u001b[38;5;241m==\u001b[39m TASK_PENDING)):\n\u001b[1;32m-> 1762\u001b[0m     \u001b[43mtime\u001b[49m\u001b[38;5;241;43m.\u001b[39;49m\u001b[43msleep\u001b[49m\u001b[43m(\u001b[49m\u001b[38;5;241;43m0.01\u001b[39;49m\u001b[43m)\u001b[49m\n\u001b[0;32m   1763\u001b[0m     \u001b[38;5;28;01mcontinue\u001b[39;00m\n\u001b[0;32m   1765\u001b[0m \u001b[38;5;66;03m# We need to be careful: the job list can be filling up as\u001b[39;00m\n\u001b[0;32m   1766\u001b[0m \u001b[38;5;66;03m# we empty it and Python list are not thread-safe by\u001b[39;00m\n\u001b[0;32m   1767\u001b[0m \u001b[38;5;66;03m# default hence the use of the lock\u001b[39;00m\n",
      "\u001b[1;31mKeyboardInterrupt\u001b[0m: "
     ]
    }
   ],
   "source": [
    "# This list presumably contains all your 2-card \"types\" like 'AKs', 'AKo', 'QQ', etc.\n",
    "hand_types = range_construction.hands  # e.g. 169 items\n",
    "all_combos = list(itertools.combinations(hand_types, 2))\n",
    "\n",
    "# Number of parallel workers\n",
    "n_jobs = -1  # use all available CPU cores (you can set to something else, e.g., 4)\n",
    "\n",
    "# We'll do 500 or 1000 iterations per matchup for demonstration\n",
    "trials_per_matchup = 10000\n",
    "\n",
    "results = Parallel(n_jobs=n_jobs, backend=\"loky\")(\n",
    "    delayed(simulate_matchup)(combo, trials=trials_per_matchup) \n",
    "    for combo in all_combos\n",
    ")"
   ]
  },
  {
   "cell_type": "code",
   "execution_count": 52,
   "metadata": {},
   "outputs": [
    {
     "name": "stdout",
     "output_type": "stream",
     "text": [
      "Saved preflop_equity.csv and preflop_matchups.csv\n"
     ]
    }
   ],
   "source": [
    "equity_results = {}\n",
    "matchup_rows = []  # We'll collect the final matchup results here\n",
    "\n",
    "for r in results:\n",
    "    h1_str = r['hand1_str']\n",
    "    h2_str = r['hand2_str']\n",
    "    \n",
    "    eq_h1 = r['equity_hand1']\n",
    "    eq_h2 = r['equity_hand2']\n",
    "    \n",
    "    # Store for future averaging (equity by hand)\n",
    "    equity_results.setdefault(h1_str, []).append(eq_h1)\n",
    "    equity_results.setdefault(h2_str, []).append(eq_h2)\n",
    "    \n",
    "    # Also store a single row for the matchup\n",
    "    # (If you don't need trial-level data, no need for r['res'])\n",
    "    matchup_rows.append({\n",
    "        'hand1_str': h1_str,\n",
    "        'hand2_str': h2_str,\n",
    "        'equity_hand1': eq_h1,\n",
    "        'equity_hand2': eq_h2\n",
    "    })\n",
    "\n",
    "# 1) Compute average equity for each hand\n",
    "for hand_str, eq_list in equity_results.items():\n",
    "    equity_results[hand_str] = np.mean(eq_list)\n",
    "\n",
    "df_equity = pd.DataFrame(equity_results.items(), columns=['hand', 'equity']).sort_values('equity', ascending=False)\n",
    "df_equity.to_csv('../results/preflop_equity.csv', index=False)\n",
    "\n",
    "# 2) Save the single-row-per-matchup results\n",
    "df_matchups = pd.DataFrame(matchup_rows)\n",
    "df_matchups.to_csv('../results/preflop_matchups.csv', index=False)\n",
    "\n",
    "print(\"Saved preflop_equity.csv and preflop_matchups.csv\")\n"
   ]
  },
  {
   "cell_type": "code",
   "execution_count": 7,
   "metadata": {},
   "outputs": [],
   "source": [
    "df_equity = pd.read_csv('../results/preflop_equity.csv')\n",
    "df_equity['Rank'] = df_equity['equity'].rank(ascending=False, method='min').astype(int)\n",
    "df_equity.to_csv('../results/preflop_equity.csv',index=False)"
   ]
  },
  {
   "cell_type": "code",
   "execution_count": 55,
   "metadata": {},
   "outputs": [
    {
     "data": {
      "image/png": "[encoded data removed]",
      "text/plain": [
       "<Figure size 640x480 with 1 Axes>"
      ]
     },
     "metadata": {},
     "output_type": "display_data"
    }
   ],
   "source": [
    "# Suppose df_equity has columns [\"hand\", \"equity\"]\n",
    "equities = df_equity[\"equity\"].values.reshape(-1, 1)  # shape (169, 1)\n",
    "\n",
    "inertias = []\n",
    "K_range = range(1, 10)  # test 1 to 9 clusters\n",
    "\n",
    "for k in K_range:\n",
    "    kmeans = KMeans(n_clusters=k, random_state=42).fit(equities)\n",
    "    inertias.append(kmeans.inertia_)\n",
    "\n",
    "plt.plot(K_range, inertias, \"bo-\")\n",
    "plt.xlabel(\"Number of clusters (k)\")\n",
    "plt.ylabel(\"Inertia (sum of squared distances)\")\n",
    "plt.title(\"Elbow Method for K-Means (1D Equities)\")\n",
    "plt.show()"
   ]
  }
 ],
 "metadata": {
  "kernelspec": {
   "display_name": "pcr_env",
   "language": "python",
   "name": "python3"
  },
  "language_info": {
   "codemirror_mode": {
    "name": "ipython",
    "version": 3
   },
   "file_extension": ".py",
   "mimetype": "text/x-python",
   "name": "python",
   "nbconvert_exporter": "python",
   "pygments_lexer": "ipython3",
   "version": "3.10.2"
  }
 },
 "nbformat": 4,
 "nbformat_minor": 2
}
