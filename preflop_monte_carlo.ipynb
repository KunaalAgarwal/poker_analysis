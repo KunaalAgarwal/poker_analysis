{
 "cells": [
  {
   "cell_type": "code",
   "execution_count": 2,
   "metadata": {},
   "outputs": [],
   "source": [
    "import range_construction\n",
    "import flop_classifier\n",
    "import pandas as pd\n",
    "import numpy as np\n",
    "import itertools\n",
    "import random\n",
    "\n",
    "from treys import Evaluator, Card, Deck"
   ]
  },
  {
   "cell_type": "code",
   "execution_count": 3,
   "metadata": {},
   "outputs": [
    {
     "data": {
      "text/plain": [
       "'\\nUse monte-carlo simulation to determine an approximate ordering of all hands via preflop equity. \\nLaw of large numbers: as the number of random samples increases, the average of the samples will approach the true average. Caveat is the growth is asymptotic. \\nMeaning that nearing some threshold of hands, the average of the random samples is arguably good enough as an approximation of the true average. There exists a point of diminishing returns,\\nconsider computational cost and accuracy. \\n\\nAlgorithm will be: \\nFor each pair of possible starting hands, use Monte-carlo simulations to randomly determine n number of boards. At each street on the board compute the hand that is ahead via treys.evaluator.\\nThis computation will be hand_rank(hand1) - hand_rank(hand2). Add this output to some dataframe for later storage. On the flop classify the flop (determination of these classes below). \\nAt the end of the simulation, calculate the equity(hand1, hand2) via hand1_wins + hand1_ties / total_boards.  Equity(hand2, hand1) = 1 - equity(hand1, hand2).   \\n'"
      ]
     },
     "execution_count": 3,
     "metadata": {},
     "output_type": "execute_result"
    }
   ],
   "source": [
    "\"\"\"\n",
    "Use monte-carlo simulation to determine an approximate ordering of all hands via preflop equity. \n",
    "Law of large numbers: as the number of random samples increases, the average of the samples will approach the true average. Caveat is the growth is asymptotic. \n",
    "Meaning that nearing some threshold of hands, the average of the random samples is arguably good enough as an approximation of the true average. There exists a point of diminishing returns,\n",
    "consider computational cost and accuracy. \n",
    "\n",
    "Algorithm will be: \n",
    "For each pair of possible starting hands, use Monte-carlo simulations to randomly determine n number of boards. At each street on the board compute the hand that is ahead via treys.evaluator.\n",
    "This computation will be hand_rank(hand1) - hand_rank(hand2). Add this output to some dataframe for later storage. On the flop classify the flop (determination of these classes below). \n",
    "At the end of the simulation, calculate the equity(hand1, hand2) via hand1_wins + hand1_ties / total_boards.  Equity(hand2, hand1) = 1 - equity(hand1, hand2).   \n",
    "\"\"\""
   ]
  },
  {
   "cell_type": "code",
   "execution_count": 4,
   "metadata": {},
   "outputs": [],
   "source": [
    "def assign_placeholder_suits(hand): \n",
    "    suits = ['s', 'h', 'd', 'c']\n",
    "\n",
    "    suit1 = suits[random.randint(0,3)]\n",
    "\n",
    "    if 's' in hand: return [f\"{hand[0]}{suit1}\", f\"{hand[1]}{suit1}\"]\n",
    "\n",
    "    else:\n",
    "        suits.remove(suit1)        \n",
    "        suit2 = suits[random.randint(0,2)]\n",
    "        return [f\"{hand[0]}{suit1}\", f\"{hand[1]}{suit2}\"]"
   ]
  },
  {
   "cell_type": "code",
   "execution_count": 5,
   "metadata": {},
   "outputs": [],
   "source": [
    "def ensure_unique_suits(hand1, hand2):\n",
    "    suits = ['s', 'h', 'd', 'c']\n",
    "    used_cards = set(hand1) \n",
    "    \n",
    "    for i, card2 in enumerate(hand2):\n",
    "        if card2 in used_cards:\n",
    "            rank = card2[0]  \n",
    "            # Find an available suit for this rank\n",
    "            available_suits = [suit for suit in suits if f\"{rank}{suit}\" not in used_cards]\n",
    "            if available_suits:\n",
    "                new_card = f\"{rank}{available_suits[0]}\"\n",
    "                hand2[i] = new_card\n",
    "                used_cards.add(new_card)\n",
    "        else:\n",
    "            used_cards.add(card2)  # Add non-duplicate card to the used set\n",
    "    \n",
    "    return hand1, hand2"
   ]
  },
  {
   "cell_type": "code",
   "execution_count": 6,
   "metadata": {},
   "outputs": [
    {
     "data": {
      "text/plain": [
       "(['As', 'Ad'], ['Ac', 'Ah'])"
      ]
     },
     "execution_count": 6,
     "metadata": {},
     "output_type": "execute_result"
    }
   ],
   "source": [
    "hand1 = assign_placeholder_suits('AA')\n",
    "hand2 = assign_placeholder_suits('AA')\n",
    "ensure_unique_suits(hand1, hand2)"
   ]
  },
  {
   "cell_type": "code",
   "execution_count": 7,
   "metadata": {},
   "outputs": [],
   "source": [
    "res = []\n",
    "equity_results = {}\n",
    "\n",
    "deck = [\n",
    "    \"2c\", \"2d\", \"2h\", \"2s\", \"3c\", \"3d\", \"3h\", \"3s\", \"4c\", \"4d\", \"4h\", \"4s\", \n",
    "    \"5c\", \"5d\", \"5h\", \"5s\", \"6c\", \"6d\", \"6h\", \"6s\", \"7c\", \"7d\", \"7h\", \"7s\", \n",
    "    \"8c\", \"8d\", \"8h\", \"8s\", \"9c\", \"9d\", \"9h\", \"9s\", \"Tc\", \"Td\", \"Th\", \"Ts\", \n",
    "    \"Jc\", \"Jd\", \"Jh\", \"Js\", \"Qc\", \"Qd\", \"Qh\", \"Qs\", \"Kc\", \"Kd\", \"Kh\", \"Ks\", \n",
    "    \"Ac\", \"Ad\", \"Ah\", \"As\"\n",
    "]\n",
    "evaluator = Evaluator()\n",
    "\n",
    "# Loop over all possible 2-card combinations\n",
    "for combo in itertools.combinations(range_construction.hands, 2):\n",
    "    hand1 = assign_placeholder_suits(combo[0])\n",
    "    hand2 = assign_placeholder_suits(combo[1])\n",
    "    hand1, hand2 = ensure_unique_suits(hand1, hand2)\n",
    "\n",
    "    # Convert these to Treys Card objects\n",
    "    hand1_cards = [Card.new(c) for c in hand1]\n",
    "    hand2_cards = [Card.new(c) for c in hand2]\n",
    "\n",
    "    # Remove these 4 cards from the deck to create the 'remaining deck'\n",
    "    used_cards = hand1 + hand2\n",
    "    remaining_deck = [card for card in deck if card not in used_cards]\n",
    "\n",
    "    hand1_wins = 0\n",
    "    hand2_wins = 0\n",
    "    ties = 0\n",
    "\n",
    "    # Monte-Carlo simulation\n",
    "    for _ in range(1):\n",
    "        # Randomly select 3 flop cards\n",
    "        flop = random.sample(remaining_deck, 3)\n",
    "        after_flop_deck = [c for c in remaining_deck if c not in flop]\n",
    "        turn = random.sample(after_flop_deck, 1)\n",
    "        after_turn_deck = [c for c in after_flop_deck if c not in turn]\n",
    "        river = random.sample(after_turn_deck, 1)\n",
    "\n",
    "        # Combine flop + turn + river\n",
    "        board_as_strings = flop + turn + river\n",
    "        board_cards = [Card.new(c) for c in board_as_strings] # convert to treys card objects\n",
    "\n",
    "        # --- Classify the flop (only 3 cards from 'flop') ---\n",
    "        flop_qualities = []\n",
    "        flop_qualities.append(flop_classifier.analyze_board_connectivity(flop))\n",
    "        flop_qualities.append(flop_classifier.analyze_board_suits(flop))\n",
    "        flop_qualities.append(flop_classifier.analyze_board_pairing(flop))\n",
    "\n",
    "        if any(card.startswith('A') for card in flop):\n",
    "            flop_qualities.append('Ace high')\n",
    "        elif any(card.startswith('K') for card in flop):\n",
    "            flop_qualities.append('King high')\n",
    "\n",
    "        dynamic_score = flop_classifier.determine_dynamic_score(flop)\n",
    "\n",
    "        # Evaluate each 5-card hand\n",
    "        hand1_rank = evaluator.evaluate(board_cards, hand1_cards)\n",
    "        hand2_rank = evaluator.evaluate(board_cards, hand2_cards)\n",
    "\n",
    "        if hand1_rank < hand2_rank:\n",
    "            hand1_wins += 1\n",
    "        elif hand1_rank > hand2_rank:\n",
    "            hand2_wins += 1\n",
    "        else:\n",
    "            ties += 1\n",
    "\n",
    "        res.append({\n",
    "            'hand1': hand1,\n",
    "            'hand2': hand2,\n",
    "            'flop': flop,\n",
    "            'turn': turn,\n",
    "            'river': river,\n",
    "            'flop_quality': flop_qualities,\n",
    "            'flop_dynamic_score': dynamic_score\n",
    "        })\n",
    "\n",
    "    total_simulations = hand1_wins + hand2_wins + ties\n",
    "    equity_hand1 = (hand1_wins + ties / 2.0) / total_simulations\n",
    "    equity_hand2 = 1.0 - equity_hand1\n",
    "\n",
    "    # Record the equity for each distinct 2-card combination\n",
    "    equity_results.setdefault(combo[0], []).append(equity_hand1)\n",
    "    equity_results.setdefault(combo[1], []).append(equity_hand2)\n",
    "\n",
    "# Once the loop finishes, compute average equity per 2-card combo\n",
    "for hand_str, eq_values in equity_results.items():\n",
    "    equity_results[hand_str] = np.mean(eq_values)\n",
    "\n",
    "df_equity = pd.DataFrame(equity_results.items(), columns=['hand', 'equity'])\n",
    "df_equity.to_csv('preflop_equity.csv', index=False)\n",
    "\n",
    "df_res = pd.DataFrame(res)\n",
    "df_res.to_csv('preflop_monte_carlo.csv', index=False)"
   ]
  }
 ],
 "metadata": {
  "kernelspec": {
   "display_name": "Python 3",
   "language": "python",
   "name": "python3"
  },
  "language_info": {
   "codemirror_mode": {
    "name": "ipython",
    "version": 3
   },
   "file_extension": ".py",
   "mimetype": "text/x-python",
   "name": "python",
   "nbconvert_exporter": "python",
   "pygments_lexer": "ipython3",
   "version": "3.12.8"
  }
 },
 "nbformat": 4,
 "nbformat_minor": 2
}
